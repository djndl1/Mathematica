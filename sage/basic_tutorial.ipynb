{
 "cells": [
  {
   "cell_type": "markdown",
   "metadata": {},
   "source": [
    "# Some examples"
   ]
  },
  {
   "cell_type": "code",
   "execution_count": 5,
   "metadata": {},
   "outputs": [
    {
     "data": {
      "text/html": [
       "<html><script type=\"math/tex; mode=display\">\\newcommand{\\Bold}[1]{\\mathbf{#1}}2^{4} \\cdot 5^{3}</script></html>"
      ],
      "text/plain": [
       "2^4 * 5^3"
      ]
     },
     "metadata": {},
     "output_type": "display_data"
    }
   ],
   "source": [
    "pretty_print(factor(2000))"
   ]
  },
  {
   "cell_type": "code",
   "execution_count": 6,
   "metadata": {},
   "outputs": [
    {
     "data": {
      "text/html": [
       "<html><script type=\"math/tex; mode=display\">\\newcommand{\\Bold}[1]{\\mathbf{#1}}\\left(\\begin{array}{rrrr}\n",
       "0 & 1 & 2 & 3 \\\\\n",
       "4 & 5 & 6 & 7 \\\\\n",
       "8 & 9 & 10 & 11 \\\\\n",
       "12 & 13 & 14 & 15\n",
       "\\end{array}\\right)</script></html>"
      ],
      "text/plain": [
       "[ 0  1  2  3]\n",
       "[ 4  5  6  7]\n",
       "[ 8  9 10 11]\n",
       "[12 13 14 15]"
      ]
     },
     "metadata": {},
     "output_type": "display_data"
    }
   ],
   "source": [
    "A = matrix(4, 4, range(16)); pretty_print(A)"
   ]
  },
  {
   "cell_type": "code",
   "execution_count": 8,
   "metadata": {},
   "outputs": [
    {
     "data": {
      "text/html": [
       "<html><script type=\"math/tex; mode=display\">\\newcommand{\\Bold}[1]{\\mathbf{#1}}x^{4} - 30x^{3} - 80x^{2}</script></html>"
      ],
      "text/plain": [
       "x^4 - 30*x^3 - 80*x^2"
      ]
     },
     "metadata": {},
     "output_type": "display_data"
    }
   ],
   "source": [
    "pretty_print(A.charpoly()) # charateristic polynomial"
   ]
  },
  {
   "cell_type": "code",
   "execution_count": 10,
   "metadata": {},
   "outputs": [
    {
     "data": {
      "text/html": [
       "<html><script type=\"math/tex; mode=display\">\\newcommand{\\Bold}[1]{\\mathbf{#1}}\\frac{36}{20 \\, \\sqrt{73} + 36 i \\, \\sqrt{3} + 27}</script></html>"
      ],
      "text/plain": [
       "36/(20*sqrt(73) + 36*I*sqrt(3) + 27)"
      ]
     },
     "metadata": {},
     "output_type": "display_data"
    }
   ],
   "source": [
    "k = 1/(sqrt(3)*I + 3/4 + sqrt(73)*5/9); pretty_print(k)"
   ]
  },
  {
   "cell_type": "code",
   "execution_count": 11,
   "metadata": {},
   "outputs": [
    {
     "data": {
      "text/plain": [
       "0.16549568 - 0.052149208*I"
      ]
     },
     "execution_count": 11,
     "metadata": {},
     "output_type": "execute_result"
    }
   ],
   "source": [
    "N(k, 30) # or `n`, numerical approximation, 30 bits, short for `numerical_approx`"
   ]
  },
  {
   "cell_type": "code",
   "execution_count": 21,
   "metadata": {},
   "outputs": [
    {
     "data": {
      "text/plain": [
       "\u001b[0;31mSignature:\u001b[0m      \u001b[0mcharpoly\u001b[0m\u001b[0;34m(\u001b[0m\u001b[0mx\u001b[0m\u001b[0;34m,\u001b[0m \u001b[0mvar\u001b[0m\u001b[0;34m=\u001b[0m\u001b[0;34m'x'\u001b[0m\u001b[0;34m)\u001b[0m\u001b[0;34m\u001b[0m\u001b[0m\n",
       "\u001b[0;31mDocstring:\u001b[0m     \n",
       "   Return the characteristic polynomial of \"x\" in the given variable.\n",
       "\n",
       "   EXAMPLES:\n",
       "\n",
       "      sage: M = MatrixSpace(QQ,3,3)\n",
       "      sage: A = M([1,2,3,4,5,6,7,8,9])\n",
       "      sage: charpoly(A)\n",
       "      x^3 - 15*x^2 - 18*x\n",
       "      sage: charpoly(A, 't')\n",
       "      t^3 - 15*t^2 - 18*t\n",
       "\n",
       "      sage: k.<alpha> = GF(7^10); k\n",
       "      Finite Field in alpha of size 7^10\n",
       "      sage: alpha.charpoly('T')\n",
       "      T^10 + T^6 + T^5 + 4*T^4 + T^3 + 2*T^2 + 3*T + 3\n",
       "      sage: characteristic_polynomial(alpha, 'T')\n",
       "      T^10 + T^6 + T^5 + 4*T^4 + T^3 + 2*T^2 + 3*T + 3\n",
       "\n",
       "   Ensure the variable name of the polynomial does not conflict with\n",
       "   variables used within the matrix, and that non-integral powers of\n",
       "   variables do not confuse the computation\n",
       "   (https://trac.sagemath.org/14403):\n",
       "\n",
       "      sage: y = var('y')\n",
       "      sage: a = matrix([[x,0,0,0],[0,1,0,0],[0,0,1,0],[0,0,0,1]])\n",
       "      sage: characteristic_polynomial(a).list()\n",
       "      [x, -3*x - 1, 3*x + 3, -x - 3, 1]\n",
       "      sage: b = matrix([[y^(1/2),0,0,0],[0,1,0,0],[0,0,1,0],[0,0,0,1]])\n",
       "      sage: charpoly(b).list()\n",
       "      [sqrt(y), -3*sqrt(y) - 1, 3*sqrt(y) + 3, -sqrt(y) - 3, 1]\n",
       "\u001b[0;31mInit docstring:\u001b[0m x.__init__(...) initializes x; see help(type(x)) for signature\n",
       "\u001b[0;31mFile:\u001b[0m           /usr/lib/python2.7/dist-packages/sage/misc/functional.py\n",
       "\u001b[0;31mType:\u001b[0m           function\n"
      ]
     },
     "metadata": {},
     "output_type": "display_data"
    }
   ],
   "source": [
    "charpoly?"
   ]
  },
  {
   "cell_type": "code",
   "execution_count": 24,
   "metadata": {},
   "outputs": [
    {
     "data": {
      "text/plain": [
       "0.165495678130644 - 0.0521492082074256*I"
      ]
     },
     "execution_count": 24,
     "metadata": {},
     "output_type": "execute_result"
    }
   ],
   "source": [
    "k.n()"
   ]
  },
  {
   "cell_type": "code",
   "execution_count": null,
   "metadata": {},
   "outputs": [],
   "source": []
  }
 ],
 "metadata": {
  "kernelspec": {
   "display_name": "SageMath 8.6",
   "language": "",
   "name": "sagemath"
  },
  "language_info": {
   "codemirror_mode": {
    "name": "ipython",
    "version": 2
   },
   "file_extension": ".py",
   "mimetype": "text/x-python",
   "name": "python",
   "nbconvert_exporter": "python",
   "pygments_lexer": "ipython2",
   "version": "2.7.16"
  }
 },
 "nbformat": 4,
 "nbformat_minor": 4
}
